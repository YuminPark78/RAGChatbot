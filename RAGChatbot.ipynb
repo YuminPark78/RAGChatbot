{
  "nbformat": 4,
  "nbformat_minor": 0,
  "metadata": {
    "colab": {
      "provenance": [],
      "gpuType": "T4",
      "authorship_tag": "ABX9TyNpmTNGjU0lQTqETlf2P9RV"
    },
    "kernelspec": {
      "name": "python3",
      "display_name": "Python 3"
    },
    "language_info": {
      "name": "python"
    },
    "accelerator": "GPU"
  },
  "cells": [
    {
      "cell_type": "markdown",
      "source": [
        "# Building Chatbot using RAG(Retrieval Augmented Generation)\n",
        "The purpose of this project is to use RAG principle to build a chatbot that will be capable of answering based on otherwise inaccessible information, such as that of my resume!"
      ],
      "metadata": {
        "id": "rI5V61gf2E-f"
      }
    },
    {
      "cell_type": "code",
      "execution_count": null,
      "metadata": {
        "collapsed": true,
        "id": "zNgoQgkj1onT",
        "colab": {
          "base_uri": "https://localhost:8080/"
        },
        "outputId": "62585930-a7b6-42cd-9efb-d24f1d2c2580"
      },
      "outputs": [
        {
          "output_type": "stream",
          "name": "stdout",
          "text": [
            "\u001b[?25l   \u001b[90m━━━━━━━━━━━━━━━━━━━━━━━━━━━━━━━━━━━━━━━━\u001b[0m \u001b[32m0.0/298.0 kB\u001b[0m \u001b[31m?\u001b[0m eta \u001b[36m-:--:--\u001b[0m\r\u001b[2K   \u001b[91m━━━━━━━━━━━━━━━━━━━━━━━━━━━━━━━━━━━━━━━\u001b[0m\u001b[91m╸\u001b[0m \u001b[32m297.0/298.0 kB\u001b[0m \u001b[31m9.9 MB/s\u001b[0m eta \u001b[36m0:00:01\u001b[0m\r\u001b[2K   \u001b[90m━━━━━━━━━━━━━━━━━━━━━━━━━━━━━━━━━━━━━━━━\u001b[0m \u001b[32m298.0/298.0 kB\u001b[0m \u001b[31m6.5 MB/s\u001b[0m eta \u001b[36m0:00:00\u001b[0m\n",
            "\u001b[?25h"
          ]
        }
      ],
      "source": [
        "# Installing dependencies\n",
        "!pip -q install sentence-transformers tiktoken numpy langchain_groq langchain_huggingface langchain-chroma youtube-transcript-api pytube langchain_community pypdf"
      ]
    },
    {
      "cell_type": "markdown",
      "source": [
        "## Data preparation\n",
        "### Loading Data from PDF"
      ],
      "metadata": {
        "id": "uZr3R6o62CXw"
      }
    },
    {
      "cell_type": "code",
      "source": [
        "from langchain_community.document_loaders import PyPDFLoader"
      ],
      "metadata": {
        "id": "-7-3yBrLFTJ2"
      },
      "execution_count": null,
      "outputs": []
    },
    {
      "cell_type": "code",
      "source": [
        "loader = PyPDFLoader(\"/content/Resume_Yumin Park (NTU) - Edit 6.docx.pdf\")\n",
        "\n",
        "docs = loader.load()\n",
        "\n",
        "docs"
      ],
      "metadata": {
        "colab": {
          "base_uri": "https://localhost:8080/"
        },
        "collapsed": true,
        "id": "qKUHaxVGFu_D",
        "outputId": "04e96bd7-19a0-4e31-cdc8-0e3d4ea89841"
      },
      "execution_count": null,
      "outputs": [
        {
          "output_type": "execute_result",
          "data": {
            "text/plain": [
              "[Document(metadata={'source': '/content/Resume_Yumin Park (NTU) - Edit 6.docx.pdf', 'page': 0}, page_content='YuminParkMobile:+6583486636|Email:yumin.park02@gmail.com|LinkedIn|GitHub\\nINTERNSHIPOBJECTIVESeekingtoapplyforSummerInternship(fromMay–June2025)inyouresteemedorganization. Aself-motivatedDataScienceandA.I. student equipswithtechnical skillsset suchasXXXXXXXXXXX, XXXXXXXXXX, XXXXXXXXX;possessleadershipskills, great teamwork, willingnesstolearnattitudeandwouldliketoapplyknowledgeintherealworkenvironment.\\nEDUCATIONNanyangTechnologicalUniversity(NTU),Singapore Aug2021-May2027(Expected)BachelorofComputing(Honours)inDataScienceandArtificialIntelligence● Honours(Distinction)| Current GPA: 4.48/5.00● Relevant Coursework: AlgorithmDesign&Analysis, SoftwareEngineering, DataStructure&Algorithms,GoogleAdvancedDataAnalytics(Coursera), MachineLearning(Coursera)\\n(Leaveof Absence(AcademicYear22-24)duetoserviceintheRepublicof KoreaArmy| ResumedinAug2024)\\nAWARDS&ACHIEVEMENTS● Best IdeationAward-Champion| NTUPEAKLeadershipProgramme IssuedOct 2024● International BaccalaureateBilingual Diploma| Score: 44/45 IssuedMay2021● OutstandingLeadershipinCommunityServiceAward IssuedMay2021\\nSKILLS● Programming: Python, Pandas, Numpy, C, Java, PyTorch, scikit-learn● Soft Skills: Curiosity, Analytical Rigour, ProblemSolving, Cultural SensitivityandOpen-Mindedness● Language: NativeinKorean, Bilingual inEnglish\\nPROJECTSNanyangTechnologicalUniversity(NTU),SingaporeSoftwareEngineeringModule Aug2024–PresentProject Title-Recyclo● Developedanapplicationtorecommendthemost convenient recyclablewastecollectionpoint inSingapore.● Processeduserinput informationinthebackendwithNational Environmental AgencyAPI toreturnclosestcollectionpointsacceptingthespecifiedwastetypeamongover1300registeredlocations.● EmployedSoftwareEngineeringprinciplestomanageteamworkandfollowSoftwareDevelopment LifeCycle.\\nIntroductiontoDataScience&ArtificialIntelligenceModule Jan2022-May2022Project Title-HypertensionAnalysisMachineLearningAnalysis● Developedapredictivemodel forhypertensiondiagnosisbasedondataof morethan5000patients.● Implementedandcompared8machinelearningalgorithmsincludingLogisticRegression, RandomForest,Artificial Neural Network, andNaiveBayesClassifier.● Identifiedandprovidedinsightsonmainriskfactorstoanalyseandidentifypatientsat riskof hypertension.\\nCOMPETITIONNTUPEAKLeadershipProgramme|TEAMLEWISConsultant Aug2024-Oct 2024● Ideatedinnovativeandinterdisciplinarysolutionstoaddressconsultee’sbusinesschallenge: allowretaillandlords(brickandmortar, B2Cstores)toimplement relevant andimpactful sustainabilityprogrammes.● CoordinatedweeklymeetingswithTEAMLEWIStoanalysethechallengeindepthandtailorsolutions.● PresentedsolutiontoC-suitesandwonChampionAwardinrecognitionof delivery, feasibility, andcreativeness.\\nLEADERSHIPEXPERIENCE&CO-CURRICULARACTIVITIESNTUVarsityTouchRugby|TeamAthlete Aug2024-Present● Competedin4inter-school games, performingasateamplayerunderchallengingandexpeditiousconditions.● Committedtoweeklytrainingtohonedrill executionskills, activecommunication, andcoordinatedteamworktoobtaina95%attendanceratetodate.'),\n",
              " Document(metadata={'source': '/content/Resume_Yumin Park (NTU) - Edit 6.docx.pdf', 'page': 1}, page_content='TechnologyCouncil|VirtualReality(VR)Committee Aug2019-May2021● IntegratedVirtual Realityintoeducational programstoencouragestudentstoactivelyengageinlearning.● Collaboratedwithteacherstoimplement Virtual Realityinfivecourses, impactingover200students, 94%ofwhomreportedbenefitingfromimmersiveandengaginglearningexperiences.\\nBumblebeeFreeLibrary|President Aug2018-May2021● EstablishedacommunityservicegrouptoteachEnglishtoover40keenThai studentsat afreelibraryinNonthaburi, Thailand, gatheringmorethan50like-mindedvolunteersin3years.● Spearheadedtofostercommunitygrowthbyprovidinglearningopportunitiesandaddressinglanguagebarriers.')]"
            ]
          },
          "metadata": {},
          "execution_count": 6
        }
      ]
    },
    {
      "cell_type": "markdown",
      "source": [
        "## Splitting Data into smaller chunks"
      ],
      "metadata": {
        "id": "5s0L8lO3GRbL"
      }
    },
    {
      "cell_type": "code",
      "source": [
        "from langchain.text_splitter import RecursiveCharacterTextSplitter"
      ],
      "metadata": {
        "id": "WgyvqZ64GFxE"
      },
      "execution_count": null,
      "outputs": []
    },
    {
      "cell_type": "code",
      "source": [
        "text_splitter = RecursiveCharacterTextSplitter(\n",
        " chunk_size = 2000,\n",
        " chunk_overlap = 200\n",
        ")\n",
        "\n",
        "# Make splits\n",
        "splits = text_splitter.split_documents(docs)\n",
        "\n",
        "splits"
      ],
      "metadata": {
        "colab": {
          "base_uri": "https://localhost:8080/"
        },
        "collapsed": true,
        "id": "-EEWuIKaGZz-",
        "outputId": "9cae2010-1a1a-47fc-9f3d-ad4153515e6d"
      },
      "execution_count": null,
      "outputs": [
        {
          "output_type": "execute_result",
          "data": {
            "text/plain": [
              "[Document(metadata={'source': '/content/Resume_Yumin Park (NTU) - Edit 6.docx.pdf', 'page': 0}, page_content='YuminParkMobile:+6583486636|Email:yumin.park02@gmail.com|LinkedIn|GitHub\\nINTERNSHIPOBJECTIVESeekingtoapplyforSummerInternship(fromMay–June2025)inyouresteemedorganization. Aself-motivatedDataScienceandA.I. student equipswithtechnical skillsset suchasXXXXXXXXXXX, XXXXXXXXXX, XXXXXXXXX;possessleadershipskills, great teamwork, willingnesstolearnattitudeandwouldliketoapplyknowledgeintherealworkenvironment.\\nEDUCATIONNanyangTechnologicalUniversity(NTU),Singapore Aug2021-May2027(Expected)BachelorofComputing(Honours)inDataScienceandArtificialIntelligence● Honours(Distinction)| Current GPA: 4.48/5.00● Relevant Coursework: AlgorithmDesign&Analysis, SoftwareEngineering, DataStructure&Algorithms,GoogleAdvancedDataAnalytics(Coursera), MachineLearning(Coursera)\\n(Leaveof Absence(AcademicYear22-24)duetoserviceintheRepublicof KoreaArmy| ResumedinAug2024)\\nAWARDS&ACHIEVEMENTS● Best IdeationAward-Champion| NTUPEAKLeadershipProgramme IssuedOct 2024● International BaccalaureateBilingual Diploma| Score: 44/45 IssuedMay2021● OutstandingLeadershipinCommunityServiceAward IssuedMay2021\\nSKILLS● Programming: Python, Pandas, Numpy, C, Java, PyTorch, scikit-learn● Soft Skills: Curiosity, Analytical Rigour, ProblemSolving, Cultural SensitivityandOpen-Mindedness● Language: NativeinKorean, Bilingual inEnglish\\nPROJECTSNanyangTechnologicalUniversity(NTU),SingaporeSoftwareEngineeringModule Aug2024–PresentProject Title-Recyclo● Developedanapplicationtorecommendthemost convenient recyclablewastecollectionpoint inSingapore.● Processeduserinput informationinthebackendwithNational Environmental AgencyAPI toreturnclosestcollectionpointsacceptingthespecifiedwastetypeamongover1300registeredlocations.● EmployedSoftwareEngineeringprinciplestomanageteamworkandfollowSoftwareDevelopment LifeCycle.'),\n",
              " Document(metadata={'source': '/content/Resume_Yumin Park (NTU) - Edit 6.docx.pdf', 'page': 0}, page_content='IntroductiontoDataScience&ArtificialIntelligenceModule Jan2022-May2022Project Title-HypertensionAnalysisMachineLearningAnalysis● Developedapredictivemodel forhypertensiondiagnosisbasedondataof morethan5000patients.● Implementedandcompared8machinelearningalgorithmsincludingLogisticRegression, RandomForest,Artificial Neural Network, andNaiveBayesClassifier.● Identifiedandprovidedinsightsonmainriskfactorstoanalyseandidentifypatientsat riskof hypertension.\\nCOMPETITIONNTUPEAKLeadershipProgramme|TEAMLEWISConsultant Aug2024-Oct 2024● Ideatedinnovativeandinterdisciplinarysolutionstoaddressconsultee’sbusinesschallenge: allowretaillandlords(brickandmortar, B2Cstores)toimplement relevant andimpactful sustainabilityprogrammes.● CoordinatedweeklymeetingswithTEAMLEWIStoanalysethechallengeindepthandtailorsolutions.● PresentedsolutiontoC-suitesandwonChampionAwardinrecognitionof delivery, feasibility, andcreativeness.\\nLEADERSHIPEXPERIENCE&CO-CURRICULARACTIVITIESNTUVarsityTouchRugby|TeamAthlete Aug2024-Present● Competedin4inter-school games, performingasateamplayerunderchallengingandexpeditiousconditions.● Committedtoweeklytrainingtohonedrill executionskills, activecommunication, andcoordinatedteamworktoobtaina95%attendanceratetodate.'),\n",
              " Document(metadata={'source': '/content/Resume_Yumin Park (NTU) - Edit 6.docx.pdf', 'page': 1}, page_content='TechnologyCouncil|VirtualReality(VR)Committee Aug2019-May2021● IntegratedVirtual Realityintoeducational programstoencouragestudentstoactivelyengageinlearning.● Collaboratedwithteacherstoimplement Virtual Realityinfivecourses, impactingover200students, 94%ofwhomreportedbenefitingfromimmersiveandengaginglearningexperiences.\\nBumblebeeFreeLibrary|President Aug2018-May2021● EstablishedacommunityservicegrouptoteachEnglishtoover40keenThai studentsat afreelibraryinNonthaburi, Thailand, gatheringmorethan50like-mindedvolunteersin3years.● Spearheadedtofostercommunitygrowthbyprovidinglearningopportunitiesandaddressinglanguagebarriers.')]"
            ]
          },
          "metadata": {},
          "execution_count": 8
        }
      ]
    },
    {
      "cell_type": "markdown",
      "source": [
        "## Indexing/Storing the data with Vector Stores\n",
        "Embedding : Numerical representation of a piece of information(i.e. text, documents, images, audio, etc)\n",
        "- captures the semantic meaning of words\n",
        "- allows retrieval of most similar embeddings to a query"
      ],
      "metadata": {
        "id": "RxcA_82kGsvo"
      }
    },
    {
      "cell_type": "code",
      "source": [
        "from langchain_huggingface import HuggingFaceEmbeddings\n",
        "from langchain_chroma import Chroma"
      ],
      "metadata": {
        "id": "cszWKIz1Go_D"
      },
      "execution_count": null,
      "outputs": []
    },
    {
      "cell_type": "code",
      "source": [
        "# Define embedding model\n",
        "embeddings = HuggingFaceEmbeddings(model_name = \"all-MiniLM-L6-v2\")\n",
        "\n",
        "# Store embedded data in the vector store\n",
        "vectorstore = Chroma.from_documents(documents = splits, embedding = embeddings)"
      ],
      "metadata": {
        "collapsed": true,
        "id": "8T_avDZ-G30A"
      },
      "execution_count": null,
      "outputs": []
    },
    {
      "cell_type": "code",
      "source": [
        "# Example of similarity(semantics) search\n",
        "print(vectorstore.similarity_search(\"Yumin Park projects\", k=1))"
      ],
      "metadata": {
        "colab": {
          "base_uri": "https://localhost:8080/"
        },
        "id": "kTFne1dKHDz2",
        "outputId": "df371f1d-9dc4-4f5e-c209-ee2acd82fc85"
      },
      "execution_count": null,
      "outputs": [
        {
          "output_type": "stream",
          "name": "stdout",
          "text": [
            "[Document(metadata={'page': 0, 'source': '/content/Resume_Yumin Park (NTU) - Edit 6.docx.pdf'}, page_content='YuminParkMobile:+6583486636|Email:yumin.park02@gmail.com|LinkedIn|GitHub\\nINTERNSHIPOBJECTIVESeekingtoapplyforSummerInternship(fromMay–June2025)inyouresteemedorganization. Aself-motivatedDataScienceandA.I. student equipswithtechnical skillsset suchasXXXXXXXXXXX, XXXXXXXXXX, XXXXXXXXX;possessleadershipskills, great teamwork, willingnesstolearnattitudeandwouldliketoapplyknowledgeintherealworkenvironment.\\nEDUCATIONNanyangTechnologicalUniversity(NTU),Singapore Aug2021-May2027(Expected)BachelorofComputing(Honours)inDataScienceandArtificialIntelligence● Honours(Distinction)| Current GPA: 4.48/5.00● Relevant Coursework: AlgorithmDesign&Analysis, SoftwareEngineering, DataStructure&Algorithms,GoogleAdvancedDataAnalytics(Coursera), MachineLearning(Coursera)\\n(Leaveof Absence(AcademicYear22-24)duetoserviceintheRepublicof KoreaArmy| ResumedinAug2024)\\nAWARDS&ACHIEVEMENTS● Best IdeationAward-Champion| NTUPEAKLeadershipProgramme IssuedOct 2024● International BaccalaureateBilingual Diploma| Score: 44/45 IssuedMay2021● OutstandingLeadershipinCommunityServiceAward IssuedMay2021\\nSKILLS● Programming: Python, Pandas, Numpy, C, Java, PyTorch, scikit-learn● Soft Skills: Curiosity, Analytical Rigour, ProblemSolving, Cultural SensitivityandOpen-Mindedness● Language: NativeinKorean, Bilingual inEnglish\\nPROJECTSNanyangTechnologicalUniversity(NTU),SingaporeSoftwareEngineeringModule Aug2024–PresentProject Title-Recyclo● Developedanapplicationtorecommendthemost convenient recyclablewastecollectionpoint inSingapore.● Processeduserinput informationinthebackendwithNational Environmental AgencyAPI toreturnclosestcollectionpointsacceptingthespecifiedwastetypeamongover1300registeredlocations.● EmployedSoftwareEngineeringprinciplestomanageteamworkandfollowSoftwareDevelopment LifeCycle.')]\n"
          ]
        }
      ]
    },
    {
      "cell_type": "markdown",
      "source": [
        "## Saving data in persistent directory"
      ],
      "metadata": {
        "id": "iR7uWhiFJxxi"
      }
    },
    {
      "cell_type": "code",
      "source": [
        "vectorstore = Chroma.from_documents(documents = splits, embedding = embeddings, persist_directory=\"./chroma_db\")"
      ],
      "metadata": {
        "id": "A2X3NVEvJgkT"
      },
      "execution_count": null,
      "outputs": []
    },
    {
      "cell_type": "code",
      "source": [
        "vectorstore = Chroma(persist_directory = \"./chroma_db\", embedding_function = embeddings)"
      ],
      "metadata": {
        "id": "qvcu3dBuJ9xo"
      },
      "execution_count": null,
      "outputs": []
    },
    {
      "cell_type": "markdown",
      "source": [
        "## Integrating LLM (Mixtral 8x7b)\n",
        "API Key retrieved from the [link](https://console.groq.com/keys)"
      ],
      "metadata": {
        "id": "ynk56tK9KM0o"
      }
    },
    {
      "cell_type": "code",
      "source": [
        "from langchain_groq import ChatGroq"
      ],
      "metadata": {
        "id": "7IUu8mUmKFwc"
      },
      "execution_count": null,
      "outputs": []
    },
    {
      "cell_type": "code",
      "source": [
        "llm = ChatGroq(\n",
        "    api_key = \"GROQ_API_KEY",\n",
        "    model_name = \"mixtral-8x7b-32768\"\n",
        ")\n"
      ],
      "metadata": {
        "colab": {
          "base_uri": "https://localhost:8080/"
        },
        "id": "yWYtafG9K0_-",
        "outputId": "0f8b960f-bbd9-4b3e-c23c-bad31d8d6e8f"
      },
      "execution_count": null,
      "outputs": [
        {
          "output_type": "execute_result",
          "data": {
            "text/plain": [
              "{'tags': ['remove-input']}"
            ]
          },
          "metadata": {},
          "execution_count": 24
        }
      ]
    },
    {
      "cell_type": "code",
      "source": [
        "# Checking llm functionality\n",
        "llm.invoke(\"Where is NTU\")"
      ],
      "metadata": {
        "colab": {
          "base_uri": "https://localhost:8080/"
        },
        "id": "PGjr0cs3LA_d",
        "outputId": "f340942a-6bef-45ad-8b0f-8c2627c94f5a"
      },
      "execution_count": null,
      "outputs": [
        {
          "output_type": "execute_result",
          "data": {
            "text/plain": [
              "AIMessage(content='NTU refers to Nanyang Technological University, which is located in Singapore. It is one of the two largest universities in the city-state, and is consistently ranked among the top universities in the world. The university is known for its strong programs in engineering, technology, business, and arts, and has a student population of over 33,000. The main campus of NTU is located in the western part of Singapore, in the town of Jurong West. The university also has several other campuses and research centers located throughout the country.', additional_kwargs={}, response_metadata={'token_usage': {'completion_tokens': 116, 'prompt_tokens': 12, 'total_tokens': 128, 'completion_time': 0.184131981, 'prompt_time': 0.002829991, 'queue_time': 0.010411149, 'total_time': 0.186961972}, 'model_name': 'mixtral-8x7b-32768', 'system_fingerprint': 'fp_c5f20b5bb1', 'finish_reason': 'stop', 'logprobs': None}, id='run-43adf9da-566a-4734-82e5-638f49062d65-0', usage_metadata={'input_tokens': 12, 'output_tokens': 116, 'total_tokens': 128})"
            ]
          },
          "metadata": {},
          "execution_count": 25
        }
      ]
    },
    {
      "cell_type": "markdown",
      "source": [
        "## RAG Pipeline"
      ],
      "metadata": {
        "id": "DVK0xBoaLaXn"
      }
    },
    {
      "cell_type": "code",
      "source": [
        "from langchain.prompts import ChatPromptTemplate"
      ],
      "metadata": {
        "id": "zWZBkGyfLgbZ"
      },
      "execution_count": null,
      "outputs": []
    },
    {
      "cell_type": "code",
      "source": [
        "def rag(question: str, num_docs: int = 1):\n",
        "\n",
        "    # 1. Retrieve relevant documents\n",
        "    docs = vectorstore.similarity_search(question, k=num_docs)\n",
        "\n",
        "    # 2. Format context from documents\n",
        "    context = \"\\n\\n\".join([doc.page_content for doc in docs])\n",
        "\n",
        "    # 3. Create RAG prompt\n",
        "    prompt = ChatPromptTemplate.from_messages([\n",
        "        (\"system\", \"\"\"You are a helpful AI assistant.\n",
        "        Answer the question based on the provided context.\n",
        "        If you cannot answer from the context, say \"I cannot answer this from the provided information.\"\n",
        "\n",
        "        Context:\n",
        "        {context}\"\"\"),\n",
        "        (\"human\", \"{question}\")\n",
        "    ])\n",
        "\n",
        "    # 4. Get formatted prompt\n",
        "    formatted_prompt = prompt.format(\n",
        "        context=context,\n",
        "        question=question\n",
        "    )\n",
        "\n",
        "    # 5. Get response\n",
        "    response = llm.invoke(formatted_prompt)\n",
        "\n",
        "    print(\"\\n=== RAG Process Details ===\")\n",
        "    print(\"\\nQuery:\", question)\n",
        "    print(\"\\nRetrieved Context:\", context)\n",
        "\n",
        "\n",
        "    print(\"\\nFormatted Prompt:\", formatted_prompt)\n",
        "\n",
        "\n",
        "    print(\"\\n=========================== RAG Final Response ===========================\")\n",
        "    print(\"\\nResponse:\", response.content)\n",
        "\n",
        "    return response.content"
      ],
      "metadata": {
        "id": "8X3Zl2c4LHbh"
      },
      "execution_count": null,
      "outputs": []
    },
    {
      "cell_type": "code",
      "source": [
        "question = \"Project made by Yumin Park\"\n",
        "answer = rag(question)"
      ],
      "metadata": {
        "colab": {
          "base_uri": "https://localhost:8080/"
        },
        "id": "UhgIya3_Lxg7",
        "outputId": "a9d5baaa-6220-45ba-ecb0-2ccf69e7c513"
      },
      "execution_count": null,
      "outputs": [
        {
          "output_type": "stream",
          "name": "stdout",
          "text": [
            "\n",
            "=== RAG Process Details ===\n",
            "\n",
            "Query: Project made by Yumin Park\n",
            "\n",
            "Retrieved Context: YuminParkMobile:+6583486636|Email:yumin.park02@gmail.com|LinkedIn|GitHub\n",
            "INTERNSHIPOBJECTIVESeekingtoapplyforSummerInternship(fromMay–June2025)inyouresteemedorganization. Aself-motivatedDataScienceandA.I. student equipswithtechnical skillsset suchasXXXXXXXXXXX, XXXXXXXXXX, XXXXXXXXX;possessleadershipskills, great teamwork, willingnesstolearnattitudeandwouldliketoapplyknowledgeintherealworkenvironment.\n",
            "EDUCATIONNanyangTechnologicalUniversity(NTU),Singapore Aug2021-May2027(Expected)BachelorofComputing(Honours)inDataScienceandArtificialIntelligence● Honours(Distinction)| Current GPA: 4.48/5.00● Relevant Coursework: AlgorithmDesign&Analysis, SoftwareEngineering, DataStructure&Algorithms,GoogleAdvancedDataAnalytics(Coursera), MachineLearning(Coursera)\n",
            "(Leaveof Absence(AcademicYear22-24)duetoserviceintheRepublicof KoreaArmy| ResumedinAug2024)\n",
            "AWARDS&ACHIEVEMENTS● Best IdeationAward-Champion| NTUPEAKLeadershipProgramme IssuedOct 2024● International BaccalaureateBilingual Diploma| Score: 44/45 IssuedMay2021● OutstandingLeadershipinCommunityServiceAward IssuedMay2021\n",
            "SKILLS● Programming: Python, Pandas, Numpy, C, Java, PyTorch, scikit-learn● Soft Skills: Curiosity, Analytical Rigour, ProblemSolving, Cultural SensitivityandOpen-Mindedness● Language: NativeinKorean, Bilingual inEnglish\n",
            "PROJECTSNanyangTechnologicalUniversity(NTU),SingaporeSoftwareEngineeringModule Aug2024–PresentProject Title-Recyclo● Developedanapplicationtorecommendthemost convenient recyclablewastecollectionpoint inSingapore.● Processeduserinput informationinthebackendwithNational Environmental AgencyAPI toreturnclosestcollectionpointsacceptingthespecifiedwastetypeamongover1300registeredlocations.● EmployedSoftwareEngineeringprinciplestomanageteamworkandfollowSoftwareDevelopment LifeCycle.\n",
            "\n",
            "Formatted Prompt: System: You are a helpful AI assistant.\n",
            "        Answer the question based on the provided context.\n",
            "        If you cannot answer from the context, say \"I cannot answer this from the provided information.\"\n",
            "\n",
            "        Context:\n",
            "        YuminParkMobile:+6583486636|Email:yumin.park02@gmail.com|LinkedIn|GitHub\n",
            "INTERNSHIPOBJECTIVESeekingtoapplyforSummerInternship(fromMay–June2025)inyouresteemedorganization. Aself-motivatedDataScienceandA.I. student equipswithtechnical skillsset suchasXXXXXXXXXXX, XXXXXXXXXX, XXXXXXXXX;possessleadershipskills, great teamwork, willingnesstolearnattitudeandwouldliketoapplyknowledgeintherealworkenvironment.\n",
            "EDUCATIONNanyangTechnologicalUniversity(NTU),Singapore Aug2021-May2027(Expected)BachelorofComputing(Honours)inDataScienceandArtificialIntelligence● Honours(Distinction)| Current GPA: 4.48/5.00● Relevant Coursework: AlgorithmDesign&Analysis, SoftwareEngineering, DataStructure&Algorithms,GoogleAdvancedDataAnalytics(Coursera), MachineLearning(Coursera)\n",
            "(Leaveof Absence(AcademicYear22-24)duetoserviceintheRepublicof KoreaArmy| ResumedinAug2024)\n",
            "AWARDS&ACHIEVEMENTS● Best IdeationAward-Champion| NTUPEAKLeadershipProgramme IssuedOct 2024● International BaccalaureateBilingual Diploma| Score: 44/45 IssuedMay2021● OutstandingLeadershipinCommunityServiceAward IssuedMay2021\n",
            "SKILLS● Programming: Python, Pandas, Numpy, C, Java, PyTorch, scikit-learn● Soft Skills: Curiosity, Analytical Rigour, ProblemSolving, Cultural SensitivityandOpen-Mindedness● Language: NativeinKorean, Bilingual inEnglish\n",
            "PROJECTSNanyangTechnologicalUniversity(NTU),SingaporeSoftwareEngineeringModule Aug2024–PresentProject Title-Recyclo● Developedanapplicationtorecommendthemost convenient recyclablewastecollectionpoint inSingapore.● Processeduserinput informationinthebackendwithNational Environmental AgencyAPI toreturnclosestcollectionpointsacceptingthespecifiedwastetypeamongover1300registeredlocations.● EmployedSoftwareEngineeringprinciplestomanageteamworkandfollowSoftwareDevelopment LifeCycle.\n",
            "Human: Project made by Yumin Park\n",
            "\n",
            "=========================== RAG Final Response ===========================\n",
            "\n",
            "Response: The project made by Yumin Park is called \"Recyclo\". It is a software engineering project developed for the Software Engineering Module at Nanyang Technological University (NTU), Singapore. The goal of this project is to recommend the most convenient recyclable waste collection point in Singapore. The application processes user input information in the backend with the National Environmental Agency API to return the closest collection points accepting the specified waste type among over 1300 registered locations. Yumin Park and the team employed Software Engineering principles to manage teamwork and follow the Software Development Life Cycle.\n"
          ]
        }
      ]
    }
  ]
}
